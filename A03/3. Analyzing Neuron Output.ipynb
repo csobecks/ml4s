{
 "cells": [
  {
   "cell_type": "markdown",
   "metadata": {},
   "source": [
    "# Analyzing Neuron Output\n",
    "In this problem you will train a neural network to reproduce\n",
    "an image file located in the class directory at:\n",
    "/lustre/haven/proj/UTK0154/data/mcm41_reduced.png\n",
    "This image is a transmission electron micrograph of the structure\n",
    "of MCM-41, a nanoporous material (the pore size in\n",
    "the picture is of the order of 2 nm!) taken from https:\n",
    "//doi-org.proxy.lib.utk.edu/10.1039/A904545G.\n",
    "You are welcome to use and extend any code we have written in class\n",
    "for your solution."
   ]
  },
  {
   "cell_type": "markdown",
   "metadata": {},
   "source": [
    "## Part a\n",
    "\n",
    "Load the image file using the plt.imread and normalize the pixels such that they fall between\n",
    "0 and 1. This step is crucial for your ultimate analysis. Make a plot of the image (using\n",
    "plt.imshow) demonstrating that you have done this (i.e. use a colorbar)."
   ]
  },
  {
   "cell_type": "markdown",
   "metadata": {},
   "source": [
    "## Part b\n",
    "Use this image to create a target function. There are different ways to do this. Hint: you could\n",
    "take pixel coordinates ($x_0$, $x_1$) pairs and return the image value at that pixel. You could also\n",
    "take fractions and convert values 0 $\\leq x_0$, $x_1 \\leq$ 1 into integer pixel coordinates. Demonstrate\n",
    "that this function works by plotting over some input np.meshgrid."
   ]
  },
  {
   "cell_type": "markdown",
   "metadata": {},
   "source": [
    "## Part c\n",
    "Train a neural network on this function (using hyperparameters of your choosing) until you\n",
    "have achieved satisfactory accuracy. Make a plot of your final result and output a .json file\n",
    "that stores all relevant parameters (i.e. $\\eta$, neural network topology, . . . )."
   ]
  },
  {
   "cell_type": "markdown",
   "metadata": {},
   "source": [
    "## Part d\n",
    "Investigate the role of individual neurons in your last hidden layer before the\n",
    "output ($l$ = $L - 1$) by selectively switching weights on/off and connecting them directly to the\n",
    "output layer. Produce a plot for (at least) 10 neurons. Comment on your findings."
   ]
  }
 ],
 "metadata": {
  "kernelspec": {
   "display_name": "Python 3 (ml4s)",
   "language": "python",
   "name": "ml4s"
  },
  "language_info": {
   "codemirror_mode": {
    "name": "ipython",
    "version": 3
   },
   "file_extension": ".py",
   "mimetype": "text/x-python",
   "name": "python",
   "nbconvert_exporter": "python",
   "pygments_lexer": "ipython3",
   "version": "3.7.9"
  }
 },
 "nbformat": 4,
 "nbformat_minor": 4
}
