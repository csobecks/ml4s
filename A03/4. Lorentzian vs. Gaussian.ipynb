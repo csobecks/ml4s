{
 "cells": [
  {
   "cell_type": "markdown",
   "metadata": {},
   "source": [
    "# Lorentzian vs. Gaussian\n",
    "Use tensorflow.keras to build a simple binary\n",
    "classifier that can distinguish between\n",
    "one-dimensional Lorentzians $L(x)$ and Gaussians\n",
    "$N(x)$ where:\n",
    "\\begin(align)\n",
    "{ \n",
    "    L(x)=\\frac{A}{(x-\\mu)^2/\\sigma^2+1}\\\\\n",
    "    N(x)=Ae^{(x-\\mu)^2/(2\\sigma^2)}\n",
    "}\n",
    "\\end(align)\n",
    "Here A is the amplitude, $\\mu$ the location of the peaks, and $\\sigma$ the width. You are free to choose any\n",
    "values for these you like, but I suggest you start simple."
   ]
  },
  {
   "cell_type": "markdown",
   "metadata": {},
   "source": [
    "## Part a\n",
    "Write a function that can generate your dataset. This should include a large number of random\n",
    "functions $L$ and $N$ on the line -5$\\leq x \\leq$ 5 where A, $\\sigma$, $\\mu$ are uniformly distributed random\n",
    "numbers as seen in the figure. The input values will be either $N(x)$ or $L(x)$ while the targets\n",
    "are 1 for Gaussian and 0 for Lorentzian."
   ]
  },
  {
   "cell_type": "markdown",
   "metadata": {},
   "source": [
    "## Part b\n",
    "Using the binary cross entropy as your cost function, train your network to distinguish between\n",
    "them. What level of accuracy can you achieve with 10 functions? 100? 1000?"
   ]
  },
  {
   "cell_type": "markdown",
   "metadata": {},
   "source": [
    "## Part c\n",
    "How does the performance of your deep neural network compare to logistic\n",
    "regression? You can either write your own code to do this, or use some libraries (like\n",
    "scikit.learn)."
   ]
  }
 ],
 "metadata": {
  "kernelspec": {
   "display_name": "Python 3 (ml4s)",
   "language": "python",
   "name": "ml4s"
  },
  "language_info": {
   "codemirror_mode": {
    "name": "ipython",
    "version": 3
   },
   "file_extension": ".py",
   "mimetype": "text/x-python",
   "name": "python",
   "nbconvert_exporter": "python",
   "pygments_lexer": "ipython3",
   "version": "3.7.9"
  }
 },
 "nbformat": 4,
 "nbformat_minor": 4
}
