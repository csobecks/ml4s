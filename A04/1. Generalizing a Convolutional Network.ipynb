{
 "cells": [
  {
   "cell_type": "markdown",
   "metadata": {},
   "source": [
    "## Generalizing a Convolutional Network\n",
    "In this problem, you will re-train a CNN using the MNIST data set and use it to classify your own hand-written digits. "
   ]
  },
  {
   "cell_type": "code",
   "execution_count": 1,
   "metadata": {},
   "outputs": [],
   "source": [
    "# %load ./include/header.py\n",
    "import numpy as np\n",
    "import matplotlib.pyplot as plt\n",
    "import sys\n",
    "from tqdm import trange,tqdm\n",
    "sys.path.append('./include')\n",
    "import ml4s\n",
    "%matplotlib inline\n",
    "%config InlineBackend.figure_format = 'retina'\n",
    "plt.style.use('./include/notebook.mplstyle')\n",
    "np.set_printoptions(linewidth=120)\n",
    "ml4s._set_css_style('./include/bootstrap.css')\n",
    "colors = plt.rcParams['axes.prop_cycle'].by_key()['color']\n",
    "import tensorflow as tf\n",
    "from tensorflow import keras\n",
    "from tensorflow.keras import layers\n",
    "import datetime"
   ]
  },
  {
   "cell_type": "markdown",
   "metadata": {},
   "source": [
    "### Part (a)\n",
    "Write out the digits 0-9 in your own handwriting and import them as a testing data-set. You will need to pre-process them to ensure that they are in the MNIST format (i.e. 28 x 28 1-channel normalized grayscale images)."
   ]
  },
  {
   "cell_type": "code",
   "execution_count": 29,
   "metadata": {},
   "outputs": [],
   "source": [
    "input0=plt.imread('0.PNG')\n",
    "input1=plt.imread('1.PNG')\n",
    "input2=plt.imread('2.PNG')\n",
    "input3=plt.imread('3.PNG')\n",
    "input4=plt.imread('4.PNG')\n",
    "input5=plt.imread('5.PNG')\n",
    "input6=plt.imread('6.PNG')\n",
    "input7=plt.imread('7.PNG')\n",
    "input8=plt.imread('8.PNG')\n",
    "input9=plt.imread('9.PNG')"
   ]
  },
  {
   "cell_type": "code",
   "execution_count": 2,
   "metadata": {},
   "outputs": [],
   "source": [
    "def target(x,y,data):\n",
    "    num_pixels=data.shape[0]\n",
    "    row=np.floor(y*num_pixels-1E-3).astype(int)\n",
    "    col=np.floor(x*num_pixels-1E-3).astype(int)\n",
    "    return data[row,col]"
   ]
  },
  {
   "cell_type": "code",
   "execution_count": null,
   "metadata": {},
   "outputs": [],
   "source": [
    "grid_size = 28\n",
    "extent=[0.0,1.0,0.0,1.0]\n",
    "X=np.meshgrid(np.linspace(extent[0],extent[1],grid_size),np.linspace(extent[2],extent[3],grid_size))\n",
    "batch_size=grid_size**2\n",
    "\n",
    "a=np.zeros([batch_size,2])\n",
    "a[:,0]=X[0].flatten()\n",
    "a[:,1]=X[1].flatten()\n",
    "\n",
    "result=np.zeros_like(X[0],10)\n",
    "for k in range(9):\n",
    "    for i in range(grid_size):\n",
    "        for j in range(grid_size):\n",
    "            x=X[0][i,j]\n",
    "            y=X[1][i,j]\n",
    "            result[i,j,k]=target(x,y,input[:,k])\n",
    "\n",
    "plt.imshow(result,cmap='Spectral_r',rasterized=True,extent=extent, interpolation='nearest')\n",
    "plt.colorbar()"
   ]
  },
  {
   "cell_type": "markdown",
   "metadata": {},
   "source": [
    "### Part (b)\n",
    "Re-train the CNN we defined in lecture and check the accuracy on your handwritten digits. Include plots showing the soft-max probabilities and classification for each one. "
   ]
  },
  {
   "cell_type": "code",
   "execution_count": null,
   "metadata": {},
   "outputs": [],
   "source": [
    "(x_train, y_train)= tf.keras.datasets.mnist.load_data()\n",
    "\n",
    "# determine the properties\n",
    "rows,cols = x_train[0].shape\n",
    "num_classes = 10"
   ]
  },
  {
   "cell_type": "markdown",
   "metadata": {},
   "source": [
    "### Part (c)\n",
    "If you were able to achieve 100% success you are done! If not, explore hyperparameter adjustments to improve your accuracy."
   ]
  },
  {
   "cell_type": "code",
   "execution_count": null,
   "metadata": {},
   "outputs": [],
   "source": []
  }
 ],
 "metadata": {
  "kernelspec": {
   "display_name": "Python 3 (ml4s)",
   "language": "python",
   "name": "ml4s"
  },
  "language_info": {
   "codemirror_mode": {
    "name": "ipython",
    "version": 3
   },
   "file_extension": ".py",
   "mimetype": "text/x-python",
   "name": "python",
   "nbconvert_exporter": "python",
   "pygments_lexer": "ipython3",
   "version": "3.7.9"
  }
 },
 "nbformat": 4,
 "nbformat_minor": 4
}
