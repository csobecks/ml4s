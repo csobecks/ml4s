{
 "cells": [
  {
   "cell_type": "markdown",
   "metadata": {},
   "source": [
    "## Generalizing a Convolutional Network\n",
    "In this problem, you will re-train a CNN using the MNIST data set and use it to classify your own hand-written digits. "
   ]
  },
  {
   "cell_type": "code",
   "execution_count": 124,
   "metadata": {},
   "outputs": [],
   "source": [
    "# %load ./include/header.py\n",
    "import numpy as np\n",
    "import matplotlib.pyplot as plt\n",
    "import sys\n",
    "from tqdm import trange,tqdm\n",
    "sys.path.append('./include')\n",
    "import ml4s\n",
    "%matplotlib inline\n",
    "%config InlineBackend.figure_format = 'retina'\n",
    "plt.style.use('./include/notebook.mplstyle')\n",
    "np.set_printoptions(linewidth=120)\n",
    "ml4s._set_css_style('./include/bootstrap.css')\n",
    "colors = plt.rcParams['axes.prop_cycle'].by_key()['color']\n",
    "import tensorflow as tf\n",
    "from tensorflow import keras\n",
    "from tensorflow.keras import layers\n",
    "import datetime"
   ]
  },
  {
   "cell_type": "markdown",
   "metadata": {},
   "source": [
    "### Part (a)\n",
    "Write out the digits 0-9 in your own handwriting and import them as a testing data-set. You will need to pre-process them to ensure that they are in the MNIST format (i.e. 28 x 28 1-channel normalized grayscale images)."
   ]
  },
  {
   "cell_type": "code",
   "execution_count": 146,
   "metadata": {},
   "outputs": [],
   "source": [
    "x_val=[]\n",
    "y_val=[]\n",
    "digits=[]\n",
    "grid_size = 28\n",
    "extent=[0.0,1.0,0.0,1.0]\n",
    "X=np.meshgrid(np.linspace(extent[0],extent[1],grid_size),np.linspace(extent[2],extent[3],grid_size))\n",
    "batch_size=grid_size**2\n",
    "a=np.zeros([batch_size,2])\n",
    "a[:,0]=X[0].flatten()\n",
    "a[:,1]=X[1].flatten()\n",
    "\n",
    "def target(x,y,data):\n",
    "    num_pixels=data.shape[0]\n",
    "    row=np.floor(y*num_pixels-1E-3).astype(int)\n",
    "    col=np.floor(x*num_pixels-1E-3).astype(int)\n",
    "    return data[row,col]\n",
    "\n",
    "for k in range(10):\n",
    "    image = plt.imread(f'{k}.PNG')[:,:,0]\n",
    "    image = np.abs(1-image)\n",
    "    y_val.append(k)\n",
    "    result=np.zeros_like(X[0])\n",
    "    for i in range(grid_size):\n",
    "        for j in range(grid_size):\n",
    "            x=X[0][i,j]\n",
    "            y=X[1][i,j]\n",
    "            result[i,j]=target(x,y,image)\n",
    "    x_val.append(result)\n",
    "    digits.append(result.flatten())\n",
    "\n",
    "x_val=np.array(x_val)\n",
    "x_val=x_val.reshape(10,28,28,1)\n",
    "digits=np.array(digits)"
   ]
  },
  {
   "cell_type": "code",
   "execution_count": 147,
   "metadata": {},
   "outputs": [
    {
     "data": {
      "text/plain": [
       "<matplotlib.colorbar.Colorbar at 0x2acd0d385e90>"
      ]
     },
     "execution_count": 147,
     "metadata": {},
     "output_type": "execute_result"
    },
    {
     "data": {
      "image/png": "[encoded data removed]",
      "text/plain": [
       "<Figure size 432x267.12 with 2 Axes>"
      ]
     },
     "metadata": {
      "image/png": {
       "height": 237,
       "width": 300
      },
      "needs_background": "light"
     },
     "output_type": "display_data"
    }
   ],
   "source": [
    "plt.imshow(x_val[9], cmap='gray')\n",
    "plt.colorbar()"
   ]
  },
  {
   "cell_type": "markdown",
   "metadata": {},
   "source": [
    "### Part (b)\n",
    "Re-train the CNN we defined in lecture and check the accuracy on your handwritten digits. Include plots showing the soft-max probabilities and classification for each one. "
   ]
  },
  {
   "cell_type": "code",
   "execution_count": 127,
   "metadata": {},
   "outputs": [],
   "source": [
    "def plot_digit_array(x,y, show_prediction=False):\n",
    "    '''Expects a list of digits (x) and associated labels (y)'''\n",
    "    \n",
    "    # determine the number of rows and columns of our image array\n",
    "    num_digits = x.shape[0]\n",
    "    num_cols = int(np.sqrt(num_digits))\n",
    "    num_rows = num_digits//num_cols + 1\n",
    "\n",
    "    fig,ax = plt.subplots(nrows=num_rows,ncols=num_cols,sharex=True,sharey=True,\n",
    "                          figsize=(num_cols,num_rows))\n",
    "    \n",
    "    # plot all the numbers\n",
    "    for i,cax in enumerate(ax.flatten()):\n",
    "        if i < num_digits:\n",
    "            cax.matshow(x[i].reshape(28,28), cmap='binary')\n",
    "            cax.axis('off')\n",
    "            if show_prediction:\n",
    "                cax.text(0.99,0.99,f'{y[i]}',horizontalalignment='right',verticalalignment='top', \n",
    "                         transform=cax.transAxes, fontsize=8, color='r')\n",
    "        else:\n",
    "            cax.axis('off')"
   ]
  },
  {
   "cell_type": "code",
   "execution_count": 128,
   "metadata": {},
   "outputs": [],
   "source": [
    "# load the data\n",
    "(x_train, y_train), (x_test, y_test) = tf.keras.datasets.mnist.load_data()\n",
    "\n",
    "# determine the properties\n",
    "rows,cols = x_train[0].shape\n",
    "num_classes = 10\n",
    "\n",
    "x_train, x_test = x_train[..., np.newaxis]/255.0, x_test[..., np.newaxis]/255.0\n",
    "\n",
    "# use a built-in function to get 1-hot encoding\n",
    "y_train_hot = keras.utils.to_categorical(y_train, num_classes)\n",
    "y_test_hot = keras.utils.to_categorical(y_test, num_classes)"
   ]
  },
  {
   "cell_type": "code",
   "execution_count": 140,
   "metadata": {},
   "outputs": [
    {
     "name": "stdout",
     "output_type": "stream",
     "text": [
      "Model: \"sequential_12\"\n",
      "_________________________________________________________________\n",
      "Layer (type)                 Output Shape              Param #   \n",
      "=================================================================\n",
      "conv2d_23 (Conv2D)           (None, 28, 28, 20)        520       \n",
      "_________________________________________________________________\n",
      "max_pooling2d_23 (MaxPooling (None, 14, 14, 20)        0         \n",
      "_________________________________________________________________\n",
      "conv2d_24 (Conv2D)           (None, 9, 9, 30)          21630     \n",
      "_________________________________________________________________\n",
      "dropout_21 (Dropout)         (None, 9, 9, 30)          0         \n",
      "_________________________________________________________________\n",
      "max_pooling2d_24 (MaxPooling (None, 4, 4, 30)          0         \n",
      "_________________________________________________________________\n",
      "flatten_12 (Flatten)         (None, 480)               0         \n",
      "_________________________________________________________________\n",
      "dense_22 (Dense)             (None, 480)               230880    \n",
      "_________________________________________________________________\n",
      "dropout_22 (Dropout)         (None, 480)               0         \n",
      "_________________________________________________________________\n",
      "dense_23 (Dense)             (None, 10)                4810      \n",
      "=================================================================\n",
      "Total params: 257,840\n",
      "Trainable params: 257,840\n",
      "Non-trainable params: 0\n",
      "_________________________________________________________________\n"
     ]
    }
   ],
   "source": [
    "model = keras.Sequential(\n",
    "[\n",
    "    layers.Conv2D(input_shape=(rows,cols,1), kernel_size=(5, 5), filters=20,\n",
    "                  activation='relu', padding='same'),\n",
    "    layers.MaxPooling2D(pool_size=(2, 2)),\n",
    "    layers.Conv2D(30, (6, 6), activation='relu'),\n",
    "    layers.Dropout(0.5),\n",
    "    layers.MaxPooling2D(pool_size=(2, 2)),\n",
    "    layers.Flatten(),\n",
    "    layers.Dense(30*4*4, activation='relu'),\n",
    "    layers.Dropout(0.5),\n",
    "    layers.Dense(num_classes, activation='softmax')\n",
    "])\n",
    "    \n",
    "# compile \n",
    "model.compile(loss=keras.losses.categorical_crossentropy, optimizer='Adam', metrics=['accuracy'])\n",
    "\n",
    "model.summary()\n"
   ]
  },
  {
   "cell_type": "code",
   "execution_count": 145,
   "metadata": {
    "scrolled": true
   },
   "outputs": [
    {
     "name": "stdout",
     "output_type": "stream",
     "text": [
      "Epoch 1/10\n",
      "469/469 [==============================] - 53s 113ms/step - loss: 0.0305 - accuracy: 0.9904 - val_loss: 0.0314 - val_accuracy: 0.9910\n",
      "Epoch 2/10\n",
      "469/469 [==============================] - 53s 113ms/step - loss: 0.0276 - accuracy: 0.9911 - val_loss: 0.0253 - val_accuracy: 0.9927\n",
      "Epoch 3/10\n",
      "469/469 [==============================] - 53s 113ms/step - loss: 0.0258 - accuracy: 0.9924 - val_loss: 0.0235 - val_accuracy: 0.9936\n",
      "Epoch 4/10\n",
      "469/469 [==============================] - 53s 113ms/step - loss: 0.0246 - accuracy: 0.9920 - val_loss: 0.0212 - val_accuracy: 0.9933\n",
      "Epoch 5/10\n",
      "469/469 [==============================] - 53s 113ms/step - loss: 0.0239 - accuracy: 0.9924 - val_loss: 0.0233 - val_accuracy: 0.9923\n",
      "Epoch 6/10\n",
      "469/469 [==============================] - 53s 114ms/step - loss: 0.0251 - accuracy: 0.9920 - val_loss: 0.0211 - val_accuracy: 0.9936\n",
      "Epoch 7/10\n",
      "469/469 [==============================] - 53s 113ms/step - loss: 0.0219 - accuracy: 0.9933 - val_loss: 0.0208 - val_accuracy: 0.9936\n",
      "Epoch 8/10\n",
      "469/469 [==============================] - 53s 113ms/step - loss: 0.0211 - accuracy: 0.9931 - val_loss: 0.0234 - val_accuracy: 0.9935\n",
      "Epoch 9/10\n",
      "469/469 [==============================] - 53s 113ms/step - loss: 0.0228 - accuracy: 0.9927 - val_loss: 0.0211 - val_accuracy: 0.9932\n",
      "Epoch 10/10\n",
      "469/469 [==============================] - 53s 113ms/step - loss: 0.0192 - accuracy: 0.9938 - val_loss: 0.0202 - val_accuracy: 0.9933\n"
     ]
    }
   ],
   "source": [
    "batch_size = 128\n",
    "epochs = 10\n",
    "\n",
    "training = model.fit(x_train,y_train_hot, batch_size=batch_size, epochs=epochs,\n",
    "                     verbose=1, validation_data=(x_test,y_test_hot))"
   ]
  },
  {
   "cell_type": "code",
   "execution_count": 148,
   "metadata": {},
   "outputs": [
    {
     "name": "stdout",
     "output_type": "stream",
     "text": [
      "Mistakes []\n"
     ]
    }
   ],
   "source": [
    "guesses = model(x_val)\n",
    "y_val_guess = np.argmax(guesses,axis=1)\n",
    "mistakes = np.where(y_val_guess != y_val)[0]\n",
    "print(\"Mistakes\",mistakes)\n",
    "predictions_prob_test = model(x_test)\n",
    "predictions_test = np.argmax(predictions_prob_test,axis=1)\n",
    "mistakes_test = np.where(predictions_test != y_test)[0]"
   ]
  },
  {
   "cell_type": "code",
   "execution_count": 150,
   "metadata": {},
   "outputs": [
    {
     "data": {
      "image/png": "[encoded data removed]",
      "text/plain": [
       "<Figure size 216x288 with 12 Axes>"
      ]
     },
     "metadata": {
      "image/png": {
       "height": 228,
       "width": 178
      },
      "needs_background": "light"
     },
     "output_type": "display_data"
    }
   ],
   "source": [
    "plot_digit_array(digits,np.array(y_val_guess),show_prediction=True)"
   ]
  },
  {
   "cell_type": "markdown",
   "metadata": {},
   "source": [
    "### Part (c)\n",
    "If you were able to achieve 100% success you are done! If not, explore hyperparameter adjustments to improve your accuracy."
   ]
  },
  {
   "cell_type": "markdown",
   "metadata": {},
   "source": [
    "My 9 didn't work, so I'm going to try to rotate it slightly to make it more vertical. Now It's working!"
   ]
  }
 ],
 "metadata": {
  "kernelspec": {
   "display_name": "Python 3 (ml4s)",
   "language": "python",
   "name": "ml4s"
  },
  "language_info": {
   "codemirror_mode": {
    "name": "ipython",
    "version": 3
   },
   "file_extension": ".py",
   "mimetype": "text/x-python",
   "name": "python",
   "nbconvert_exporter": "python",
   "pygments_lexer": "ipython3",
   "version": "3.7.9"
  }
 },
 "nbformat": 4,
 "nbformat_minor": 4
}
