{
 "cells": [
  {
   "cell_type": "markdown",
   "metadata": {},
   "source": [
    "## 2. Unsupervised Learning in the Ising Model\n",
    "In this problem you will use principal component analysis (PCA) to identify phases in the Ising\n",
    "model without any explicit labels. You will reproduce Figures 1 and 2 of L. Wang, Phys. Rev. B 94,\n",
    "195105 (2016), https://arxiv.org/abs/1606.00318.\n",
    "\n",
    "As in problem 1, the data is stored in an $M\\times N$ matrix $X$, where each of the $M$ rows stores a spin configuration (a set of integers $\\pm1$ corresponding to up/down) for a system with $N = L^2$ spins. The data files corresponding to $L = 20, 40, 80$ are included in the data directory of the course repository as compressed files: Ising2D_config_LZ.dat.gz where $Z=20,40,80$.\n",
    "\n",
    "Each file contains 100 spin configurations at each of the 20 temperatures $T/ J = 1.0, 1.1, 1.2, . . . , 2.9$ such that $M = 2000$ for each lattice size.\n",
    "\n",
    "For each $L$, there is a corresponding file storing the temperature at which the configuration was generated named Ising2D_temps_LZ.dat where $Z = 20,40,80$.\n",
    "\n",
    "(a) Read in the spin configurations for the Ising model for each lattice size and determines the principal components $\\mathbf{v}_j$. Make a scatter plot of the first two projected principal components $\\mathbf{x'}_1=\\mathbf{X}\\mathbf{v}_1$ vs. $\\mathbf{x'}_2=\\mathbf{X}\\mathbf{v}_2$ for each lattice size. Do you observe any trends as L is increased?\n",
    "\n",
    "(b) Label the points in your plot such that they are coloured according to their temperature and\n",
    "compare with Figure 2 of the Wang reference. Can you distinguish between the phases of the\n",
    "2D Ising model?\n",
    "\n",
    "(c) Consider now the explained variance ratios\n",
    "\n",
    "$r_l=\\frac{\\lambda_l}{\\sum_{i=1}^N \\lambda_i}$\n",
    "\n",
    "Plot the largest 10 values of $r_l$ for each lattice size and compare with Figure 1 of the reference.\n",
    "How many principal components are needed to explain how the Ising spin configurations vary\n",
    "as a function of temperature?\n"
   ]
  },
  {
   "cell_type": "code",
   "execution_count": 5,
   "metadata": {},
   "outputs": [],
   "source": [
    "# %load ./include/header.py\n",
    "import numpy as np\n",
    "import matplotlib.pyplot as plt\n",
    "import sys\n",
    "from tqdm import trange,tqdm\n",
    "sys.path.append('./include')\n",
    "import ml4s\n",
    "import scipy.linalg\n",
    "from sklearn.decomposition import PCA\n",
    "%matplotlib inline\n",
    "%config InlineBackend.figure_format = 'svg'\n",
    "plt.style.use('./include/notebook.mplstyle')\n",
    "np.set_printoptions(linewidth=120)\n",
    "ml4s._set_css_style('./include/bootstrap.css')\n",
    "colors = plt.rcParams['axes.prop_cycle'].by_key()['color']"
   ]
  },
  {
   "cell_type": "code",
   "execution_count": 6,
   "metadata": {},
   "outputs": [],
   "source": [
    "x={}\n",
    "Tval={}\n",
    "λ={}\n",
    "PCAj={}\n",
    "V={}\n",
    "pX={}\n",
    "XPCA={}\n",
    "\n",
    "x['20'] = np.loadtxt('data/Ising2D_config_L20.dat.gz')\n",
    "Tval['20'] = np.loadtxt('data/Ising2D_temps_L20.dat')\n",
    "x['40'] = np.loadtxt('data/Ising2D_config_L40.dat.gz')\n",
    "Tval['40'] = np.loadtxt('data/Ising2D_temps_L40.dat')\n",
    "x['80'] = np.loadtxt('data/Ising2D_config_L80.dat.gz')\n",
    "Tval['80'] = np.loadtxt('data/Ising2D_temps_L80.dat')"
   ]
  },
  {
   "cell_type": "code",
   "execution_count": null,
   "metadata": {
    "scrolled": false
   },
   "outputs": [],
   "source": [
    "fig,ax = plt.subplots(3,1, sharex=True, figsize=(6,6))\n",
    "model = PCA(n_components=2)\n",
    "\n",
    "for  i, config in zip(range(len(x)), x):\n",
    "    # perform the PCA\n",
    "    XPCA[config] = model.fit_transform(x[config])\n",
    "\n",
    "    # store the results\n",
    "    λ[config] = model.explained_variance_\n",
    "    PCAj[config] = model.explained_variance_ratio_\n",
    "    V[config] = model.components_\n",
    "\n",
    "    # project onto the first 2 principal components\n",
    "    pX[config] = x[config] @ V[config].T\n",
    "    \n",
    "    #plotting\n",
    "    ax[i].plot(pX[config][:,0],pX[config][:,1],'k.',markersize=1)"
   ]
  },
  {
   "cell_type": "code",
   "execution_count": null,
   "metadata": {
    "scrolled": true
   },
   "outputs": [],
   "source": [
    "fig,ax = plt.subplots(3,1, sharex=True, figsize=(6,6))\n",
    "for  i, config in zip(range(len(x)), x):\n",
    "    #plotting\n",
    "    im=ax[i].scatter(pX[config][:,0],pX[config][:,1],c=Tval[config],cmap='turbo',s=2)\n",
    "\n",
    "c_bar = fig.colorbar(im, ax=ax.ravel().tolist(), shrink=0.95)"
   ]
  },
  {
   "cell_type": "code",
   "execution_count": null,
   "metadata": {},
   "outputs": [],
   "source": [
    "aR=np.arange(1,11)\n",
    "\n",
    "model = PCA(n_components=10)\n",
    "\n",
    "for  i, config in zip(range(len(x)), x):\n",
    "    # perform the PCA\n",
    "    XPCA[config] = model.fit_transform(x[config])\n",
    "    PCAj[config] = model.explained_variance_ratio_\n",
    "\n",
    "    #plotting\n",
    "    plt.semilogy(aR,PCAj[config])"
   ]
  }
 ],
 "metadata": {
  "kernelspec": {
   "display_name": "Python 3 (ml4s)",
   "language": "python",
   "name": "ml4s"
  },
  "language_info": {
   "codemirror_mode": {
    "name": "ipython",
    "version": 3
   },
   "file_extension": ".py",
   "mimetype": "text/x-python",
   "name": "python",
   "nbconvert_exporter": "python",
   "pygments_lexer": "ipython3",
   "version": "3.7.9"
  }
 },
 "nbformat": 4,
 "nbformat_minor": 4
}
