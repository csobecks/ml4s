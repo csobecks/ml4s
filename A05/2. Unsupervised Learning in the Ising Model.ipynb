{
 "cells": [
  {
   "cell_type": "markdown",
   "metadata": {},
   "source": [
    "## 2. Unsupervised Learning in the Ising Model\n",
    "In this problem you will use principal component analysis (PCA) to identify phases in the Ising\n",
    "model without any explicit labels. You will reproduce Figures 1 and 2 of L. Wang, Phys. Rev. B 94,\n",
    "195105 (2016), https://arxiv.org/abs/1606.00318.\n",
    "\n",
    "As in problem 1, the data is stored in an $M\\times N$ matrix $X$, where each of the $M$ rows stores a spin configuration (a set of integers $\\pm1$ corresponding to up/down) for a system with $N = L^2$ spins. The data files corresponding to $L = 20, 40, 80$ are included in the data directory of the course repository as compressed files: Ising2D_config_LZ.dat.gz where $Z=20,40,80$.\n",
    "\n",
    "Each file contains 100 spin configurations at each of the 20 temperatures $T/ J = 1.0, 1.1, 1.2, . . . , 2.9$ such that $M = 2000$ for each lattice size.\n",
    "\n",
    "For each $L$, there is a corresponding file storing the temperature at which the configuration was generated named Ising2D_temps_LZ.dat where $Z = 20,40,80$.\n",
    "\n",
    "(a) Read in the spin configurations for the Ising model for each lattice size and determines the principal components $\\mathbf{v}_j$. Make a scatter plot of the first two projected principal components $\\mathbf{x'}_1=\\mathbf{X}\\mathbf{v}_1$ vs. $\\mathbf{x'}_2=\\mathbf{X}\\mathbf{v}_2$ for each lattice size. Do you observe any trends as L is increased?\n",
    "\n",
    "(b) Label the points in your plot such that they are coloured according to their temperature and\n",
    "compare with Figure 2 of the Wang reference. Can you distinguish between the phases of the\n",
    "2D Ising model?\n",
    "\n",
    "(c) Consider now the explained variance ratios\n",
    "\n",
    "$r_l=\\frac{\\lambda_l}{\\sum_{i=1}^N \\lambda_i}$\n",
    "\n",
    "Plot the largest 10 values of $r_l$ for each lattice size and compare with Figure 1 of the reference.\n",
    "How many principal components are needed to explain how the Ising spin configurations vary\n",
    "as a function of temperature?\n"
   ]
  },
  {
   "cell_type": "code",
   "execution_count": null,
   "metadata": {},
   "outputs": [],
   "source": []
  }
 ],
 "metadata": {
  "kernelspec": {
   "display_name": "Python 3 (ml4s)",
   "language": "python",
   "name": "ml4s"
  },
  "language_info": {
   "codemirror_mode": {
    "name": "ipython",
    "version": 3
   },
   "file_extension": ".py",
   "mimetype": "text/x-python",
   "name": "python",
   "nbconvert_exporter": "python",
   "pygments_lexer": "ipython3",
   "version": "3.7.9"
  }
 },
 "nbformat": 4,
 "nbformat_minor": 4
}
