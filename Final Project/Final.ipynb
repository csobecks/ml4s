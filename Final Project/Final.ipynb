{
 "cells": [
  {
   "cell_type": "markdown",
   "metadata": {},
   "source": [
    "# Notes\n",
    "\n",
    "$E(W)= \\frac{<\\Psi_m|H|\\Psi_m>}{<\\Psi_m|\\Psi_m>}$\n",
    "\n",
    "want $ \\nabla E(W^*)=0$\n",
    "\n",
    "have $ \\Psi_m(S;W)=exp[\\sum_i a_i \\sigma_i^z] \\times \\Pi_{i=1}^M F_i(S)$\n",
    "\n",
    "where $F_i(S)=2\\cosh(b_i+\\sum_j W_{ij}\\sigma_i^z) $\n",
    "\n",
    "Also, $\\alpha=\\frac{M}{N}$ where M is the hidden layers and N is the actual visible layers.\n",
    "\n",
    "Also note, $S=(S_1, S_2, ... S_N)$\n",
    "\n",
    "So the weights are $W=[a_i,b_j,W_{ij}]$\n",
    "\n",
    "#### From Stochastic methods:\n",
    "\n",
    "$E_{loc}=\\frac{<S|H|\\Psi_m>}{\\Psi_m(S)}$\n",
    "\n",
    "$W(p+1)=W(p)-\\lambda S^{-1}(p)F(p)$\n",
    "\n",
    "$S=S_{k,k'}+\\lambda(p)\\delta_{k,k'}S_{k,k}$\n",
    "\n",
    "$\\lambda(p)=max(\\lambda_0 b^p,\\lambda_{min})$\n",
    "\n",
    "with $\\lambda_0=100$, $b=0.9$, and $\\lambda_{min}=10^{-4}$\n",
    "\n",
    "$S_{k,k'}(p)=<O_k^* O_{k'}>-<O_k^*><O_{k'}>$\n",
    "\n",
    "$F_k(p)=<E_{loc} O_k^*>-<E_{loc}><O_k^*>$\n",
    "\n",
    "$O_k(S)=\\frac{1}{\\Psi_m(S)}\\partial_{W_k} \\Psi_m(S)$\n",
    "\n",
    "#### The possible Hamiltonians:\n",
    "\n",
    "transverse-field Ising (TFI): $H_{TFI}=-h\\sum_i \\sigma_i^x - \\sum_{<i,j>}\\sigma_i^z \\sigma_j^z$\n",
    "\n",
    "antiferromagnetic Heisenberg (AFH): $H_{AFH}=\\sum_{<i,j>} \\sigma_i^x\\sigma_j^x + \\sigma_i^y \\sigma_j^y + \\sigma_i^z \\sigma_j^z$"
   ]
  },
  {
   "cell_type": "code",
   "execution_count": 14,
   "metadata": {},
   "outputs": [],
   "source": [
    "# %load ./include/header.py\n",
    "import numpy as np\n",
    "import matplotlib.pyplot as plt\n",
    "import sys\n",
    "import math\n",
    "sys.path.append('./include')\n",
    "import ml4s\n",
    "import json\n",
    "%matplotlib inline\n",
    "%config InlineBackend.figure_format = 'svg'\n",
    "plt.style.use('./include/notebook.mplstyle')\n",
    "np.set_printoptions(linewidth=120)\n",
    "ml4s._set_css_style('./include/bootstrap.css')\n",
    "colors = plt.rcParams['axes.prop_cycle'].by_key()['color']"
   ]
  },
  {
   "cell_type": "code",
   "execution_count": null,
   "metadata": {},
   "outputs": [],
   "source": [
    "def wavecalc(a,b,W,S,M,N):\n",
    "    F=np.zeros((M))\n",
    "    \n",
    "    for i in range(M):\n",
    "        x=0\n",
    "        for j in range(N):\n",
    "            x+=W[i,j]*S[j]\n",
    "        x+=b[i]\n",
    "        F[i]=2*np.cosh(x)\n",
    "        x=0\n",
    "        y=1\n",
    "        for i in range(N):\n",
    "            x+=a[i]*S[i]\n",
    "            y=y*F[i]\n",
    "\n",
    "    Ψ=np.exp(x)*y\n",
    "    return Ψ"
   ]
  },
  {
   "cell_type": "code",
   "execution_count": 23,
   "metadata": {},
   "outputs": [],
   "source": [
    "N=4\n",
    "M=N*1\n",
    "α=M/N\n",
    "W=np.random.uniform(low=0,high=1,size=(M,N))\n",
    "b=np.random.uniform(low=0,high=1,size=(M,1))\n",
    "a=np.random.uniform(low=0,high=1,size=(N,2))\n",
    "S=np.random.randint(low=0,high=2,size=(N,1))\n",
    "σ=np.array([[1,0],[0,-1]])"
   ]
  },
  {
   "cell_type": "code",
   "execution_count": 24,
   "metadata": {},
   "outputs": [],
   "source": [
    "O=np.zeros((N,1))\n",
    "for i in range(N):\n",
    "    hold=0\n",
    "    for j in range(M):\n",
    "        hold+=W[j,i]*S[i]\n",
    "    holder=hold+b[i]\n",
    "    O[i]=S[i,0]*np.tanh(holder)"
   ]
  },
  {
   "cell_type": "code",
   "execution_count": null,
   "metadata": {},
   "outputs": [],
   "source": [
    "Eloc=np.zeros((N,1))"
   ]
  },
  {
   "cell_type": "markdown",
   "metadata": {},
   "source": [
    "### Gradient Descent from Class"
   ]
  },
  {
   "cell_type": "code",
   "execution_count": null,
   "metadata": {},
   "outputs": [],
   "source": [
    "def f(w,A):\n",
    "    return (1/2)*w.T @ A @ w "
   ]
  },
  {
   "cell_type": "code",
   "execution_count": null,
   "metadata": {},
   "outputs": [],
   "source": [
    "from jax import jacfwd\n",
    "df_dw = jacfwd(f,argnums=0)"
   ]
  },
  {
   "cell_type": "code",
   "execution_count": null,
   "metadata": {},
   "outputs": [],
   "source": [
    "# hyperparameters\n",
    "η = 0.5\n",
    "γ = 0.9\n",
    "num_iter = 10\n",
    "\n",
    "w = np.array([4.0,4.0])\n",
    "\n",
    "ax.plot(*w, marker='.', color='k', ms=15)  \n",
    "v = np.zeros(2)\n",
    "\n",
    "for i in range(num_iter):\n",
    "    \n",
    "    # keep a copy for plotting\n",
    "    w_old = np.copy(w)\n",
    "    \n",
    "    # perform the CM update\n",
    "    v = γ*v + η*df_dw(w, A)\n",
    "    w -= v"
   ]
  }
 ],
 "metadata": {
  "kernelspec": {
   "display_name": "Python 3 (ml4s)",
   "language": "python",
   "name": "ml4s"
  },
  "language_info": {
   "codemirror_mode": {
    "name": "ipython",
    "version": 3
   },
   "file_extension": ".py",
   "mimetype": "text/x-python",
   "name": "python",
   "nbconvert_exporter": "python",
   "pygments_lexer": "ipython3",
   "version": "3.7.9"
  }
 },
 "nbformat": 4,
 "nbformat_minor": 4
}
